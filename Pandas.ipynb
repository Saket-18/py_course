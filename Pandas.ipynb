{
 "cells": [
  {
   "cell_type": "markdown",
   "metadata": {},
   "source": [
    "# What is pandas?\n",
    "+ Python library for data analysis\n",
    "+ High-performance containers for data analysis\n",
    "+ Data structures with a lot of functionality\n",
    "+ Meaningful labels\n",
    "+ Time series functionality Handling missing data \n",
    "+ Relational operations"
   ]
  },
  {
   "cell_type": "markdown",
   "metadata": {},
   "source": [
    "## Three main data structures of Pandas\n",
    "\n",
    "+ Series\n",
    "\n",
    "+ Data Frames\n",
    "\n",
    "+ Data Panels\n"
   ]
  },
  {
   "cell_type": "code",
   "execution_count": 52,
   "metadata": {
    "collapsed": true
   },
   "outputs": [],
   "source": [
    "import pandas as pd   # pd aliasing is convention"
   ]
  },
  {
   "cell_type": "code",
   "execution_count": 53,
   "metadata": {},
   "outputs": [],
   "source": [
    "df = pd.read_csv('./Data/AAPL.csv')"
   ]
  },
  {
   "cell_type": "code",
   "execution_count": 54,
   "metadata": {},
   "outputs": [
    {
     "data": {
      "text/html": [
       "<div>\n",
       "<style>\n",
       "    .dataframe thead tr:only-child th {\n",
       "        text-align: right;\n",
       "    }\n",
       "\n",
       "    .dataframe thead th {\n",
       "        text-align: left;\n",
       "    }\n",
       "\n",
       "    .dataframe tbody tr th {\n",
       "        vertical-align: top;\n",
       "    }\n",
       "</style>\n",
       "<table border=\"1\" class=\"dataframe\">\n",
       "  <thead>\n",
       "    <tr style=\"text-align: right;\">\n",
       "      <th></th>\n",
       "      <th>Date</th>\n",
       "      <th>Open</th>\n",
       "      <th>High</th>\n",
       "      <th>Low</th>\n",
       "      <th>Close</th>\n",
       "      <th>Adj Close</th>\n",
       "      <th>Volume</th>\n",
       "    </tr>\n",
       "  </thead>\n",
       "  <tbody>\n",
       "    <tr>\n",
       "      <th>0</th>\n",
       "      <td>2018-05-21</td>\n",
       "      <td>188.000000</td>\n",
       "      <td>189.270004</td>\n",
       "      <td>186.910004</td>\n",
       "      <td>187.630005</td>\n",
       "      <td>187.630005</td>\n",
       "      <td>18400800</td>\n",
       "    </tr>\n",
       "    <tr>\n",
       "      <th>1</th>\n",
       "      <td>2018-05-22</td>\n",
       "      <td>188.380005</td>\n",
       "      <td>188.880005</td>\n",
       "      <td>186.779999</td>\n",
       "      <td>187.160004</td>\n",
       "      <td>187.160004</td>\n",
       "      <td>15240700</td>\n",
       "    </tr>\n",
       "    <tr>\n",
       "      <th>2</th>\n",
       "      <td>2018-05-23</td>\n",
       "      <td>186.350006</td>\n",
       "      <td>188.500000</td>\n",
       "      <td>185.759995</td>\n",
       "      <td>188.360001</td>\n",
       "      <td>188.360001</td>\n",
       "      <td>19467900</td>\n",
       "    </tr>\n",
       "    <tr>\n",
       "      <th>3</th>\n",
       "      <td>2018-05-24</td>\n",
       "      <td>188.770004</td>\n",
       "      <td>188.839996</td>\n",
       "      <td>186.210007</td>\n",
       "      <td>188.149994</td>\n",
       "      <td>188.149994</td>\n",
       "      <td>20401000</td>\n",
       "    </tr>\n",
       "    <tr>\n",
       "      <th>4</th>\n",
       "      <td>2018-05-25</td>\n",
       "      <td>188.229996</td>\n",
       "      <td>189.649994</td>\n",
       "      <td>187.649994</td>\n",
       "      <td>188.580002</td>\n",
       "      <td>188.580002</td>\n",
       "      <td>17461000</td>\n",
       "    </tr>\n",
       "  </tbody>\n",
       "</table>\n",
       "</div>"
      ],
      "text/plain": [
       "         Date        Open        High         Low       Close   Adj Close  \\\n",
       "0  2018-05-21  188.000000  189.270004  186.910004  187.630005  187.630005   \n",
       "1  2018-05-22  188.380005  188.880005  186.779999  187.160004  187.160004   \n",
       "2  2018-05-23  186.350006  188.500000  185.759995  188.360001  188.360001   \n",
       "3  2018-05-24  188.770004  188.839996  186.210007  188.149994  188.149994   \n",
       "4  2018-05-25  188.229996  189.649994  187.649994  188.580002  188.580002   \n",
       "\n",
       "     Volume  \n",
       "0  18400800  \n",
       "1  15240700  \n",
       "2  19467900  \n",
       "3  20401000  \n",
       "4  17461000  "
      ]
     },
     "execution_count": 54,
     "metadata": {},
     "output_type": "execute_result"
    }
   ],
   "source": [
    "df.head()"
   ]
  },
  {
   "cell_type": "code",
   "execution_count": 68,
   "metadata": {},
   "outputs": [
    {
     "data": {
      "text/plain": [
       "pandas.core.frame.DataFrame"
      ]
     },
     "execution_count": 68,
     "metadata": {},
     "output_type": "execute_result"
    }
   ],
   "source": [
    "type(df)"
   ]
  },
  {
   "cell_type": "code",
   "execution_count": 55,
   "metadata": {},
   "outputs": [
    {
     "data": {
      "text/html": [
       "<div>\n",
       "<style>\n",
       "    .dataframe thead tr:only-child th {\n",
       "        text-align: right;\n",
       "    }\n",
       "\n",
       "    .dataframe thead th {\n",
       "        text-align: left;\n",
       "    }\n",
       "\n",
       "    .dataframe tbody tr th {\n",
       "        vertical-align: top;\n",
       "    }\n",
       "</style>\n",
       "<table border=\"1\" class=\"dataframe\">\n",
       "  <thead>\n",
       "    <tr style=\"text-align: right;\">\n",
       "      <th></th>\n",
       "      <th>Date</th>\n",
       "      <th>Open</th>\n",
       "      <th>High</th>\n",
       "      <th>Low</th>\n",
       "      <th>Close</th>\n",
       "      <th>Adj Close</th>\n",
       "      <th>Volume</th>\n",
       "    </tr>\n",
       "  </thead>\n",
       "  <tbody>\n",
       "    <tr>\n",
       "      <th>16</th>\n",
       "      <td>2018-06-13</td>\n",
       "      <td>192.419998</td>\n",
       "      <td>192.880005</td>\n",
       "      <td>190.440002</td>\n",
       "      <td>190.699997</td>\n",
       "      <td>190.699997</td>\n",
       "      <td>21638400</td>\n",
       "    </tr>\n",
       "    <tr>\n",
       "      <th>17</th>\n",
       "      <td>2018-06-14</td>\n",
       "      <td>191.550003</td>\n",
       "      <td>191.570007</td>\n",
       "      <td>190.220001</td>\n",
       "      <td>190.800003</td>\n",
       "      <td>190.800003</td>\n",
       "      <td>21610100</td>\n",
       "    </tr>\n",
       "    <tr>\n",
       "      <th>18</th>\n",
       "      <td>2018-06-15</td>\n",
       "      <td>190.029999</td>\n",
       "      <td>190.160004</td>\n",
       "      <td>188.259995</td>\n",
       "      <td>188.839996</td>\n",
       "      <td>188.839996</td>\n",
       "      <td>61719200</td>\n",
       "    </tr>\n",
       "    <tr>\n",
       "      <th>19</th>\n",
       "      <td>2018-06-18</td>\n",
       "      <td>187.880005</td>\n",
       "      <td>189.220001</td>\n",
       "      <td>187.199997</td>\n",
       "      <td>188.740005</td>\n",
       "      <td>188.740005</td>\n",
       "      <td>18484900</td>\n",
       "    </tr>\n",
       "    <tr>\n",
       "      <th>20</th>\n",
       "      <td>2018-06-19</td>\n",
       "      <td>185.139999</td>\n",
       "      <td>186.330002</td>\n",
       "      <td>183.449997</td>\n",
       "      <td>185.690002</td>\n",
       "      <td>185.690002</td>\n",
       "      <td>32502500</td>\n",
       "    </tr>\n",
       "  </tbody>\n",
       "</table>\n",
       "</div>"
      ],
      "text/plain": [
       "          Date        Open        High         Low       Close   Adj Close  \\\n",
       "16  2018-06-13  192.419998  192.880005  190.440002  190.699997  190.699997   \n",
       "17  2018-06-14  191.550003  191.570007  190.220001  190.800003  190.800003   \n",
       "18  2018-06-15  190.029999  190.160004  188.259995  188.839996  188.839996   \n",
       "19  2018-06-18  187.880005  189.220001  187.199997  188.740005  188.740005   \n",
       "20  2018-06-19  185.139999  186.330002  183.449997  185.690002  185.690002   \n",
       "\n",
       "      Volume  \n",
       "16  21638400  \n",
       "17  21610100  \n",
       "18  61719200  \n",
       "19  18484900  \n",
       "20  32502500  "
      ]
     },
     "execution_count": 55,
     "metadata": {},
     "output_type": "execute_result"
    }
   ],
   "source": [
    "df.tail()"
   ]
  },
  {
   "cell_type": "code",
   "execution_count": 56,
   "metadata": {},
   "outputs": [
    {
     "data": {
      "text/plain": [
       "Index(['Date', 'Open', 'High', 'Low', 'Close', 'Adj Close', 'Volume'], dtype='object')"
      ]
     },
     "execution_count": 56,
     "metadata": {},
     "output_type": "execute_result"
    }
   ],
   "source": [
    "df.columns"
   ]
  },
  {
   "cell_type": "code",
   "execution_count": 57,
   "metadata": {
    "collapsed": true
   },
   "outputs": [],
   "source": [
    "import matplotlib.pyplot as plt"
   ]
  },
  {
   "cell_type": "code",
   "execution_count": 64,
   "metadata": {},
   "outputs": [
    {
     "data": {
      "image/png": "[encoded data removed]",
      "text/plain": [
       "<matplotlib.figure.Figure at 0x10f6f4908>"
      ]
     },
     "metadata": {},
     "output_type": "display_data"
    }
   ],
   "source": [
    "df[['Open','Close']].plot()   # profile is fine but what is the x-axis?\n",
    "plt.show()"
   ]
  },
  {
   "cell_type": "code",
   "execution_count": 65,
   "metadata": {
    "collapsed": true
   },
   "outputs": [],
   "source": [
    "# it is plotted basing on index which is just a number"
   ]
  },
  {
   "cell_type": "code",
   "execution_count": 66,
   "metadata": {},
   "outputs": [
    {
     "data": {
      "text/html": [
       "<div>\n",
       "<style>\n",
       "    .dataframe thead tr:only-child th {\n",
       "        text-align: right;\n",
       "    }\n",
       "\n",
       "    .dataframe thead th {\n",
       "        text-align: left;\n",
       "    }\n",
       "\n",
       "    .dataframe tbody tr th {\n",
       "        vertical-align: top;\n",
       "    }\n",
       "</style>\n",
       "<table border=\"1\" class=\"dataframe\">\n",
       "  <thead>\n",
       "    <tr style=\"text-align: right;\">\n",
       "      <th></th>\n",
       "      <th>Open</th>\n",
       "      <th>High</th>\n",
       "      <th>Low</th>\n",
       "      <th>Close</th>\n",
       "      <th>Adj Close</th>\n",
       "      <th>Volume</th>\n",
       "    </tr>\n",
       "    <tr>\n",
       "      <th>Date</th>\n",
       "      <th></th>\n",
       "      <th></th>\n",
       "      <th></th>\n",
       "      <th></th>\n",
       "      <th></th>\n",
       "      <th></th>\n",
       "    </tr>\n",
       "  </thead>\n",
       "  <tbody>\n",
       "    <tr>\n",
       "      <th>2018-05-21</th>\n",
       "      <td>188.000000</td>\n",
       "      <td>189.270004</td>\n",
       "      <td>186.910004</td>\n",
       "      <td>187.630005</td>\n",
       "      <td>187.630005</td>\n",
       "      <td>18400800</td>\n",
       "    </tr>\n",
       "    <tr>\n",
       "      <th>2018-05-22</th>\n",
       "      <td>188.380005</td>\n",
       "      <td>188.880005</td>\n",
       "      <td>186.779999</td>\n",
       "      <td>187.160004</td>\n",
       "      <td>187.160004</td>\n",
       "      <td>15240700</td>\n",
       "    </tr>\n",
       "    <tr>\n",
       "      <th>2018-05-23</th>\n",
       "      <td>186.350006</td>\n",
       "      <td>188.500000</td>\n",
       "      <td>185.759995</td>\n",
       "      <td>188.360001</td>\n",
       "      <td>188.360001</td>\n",
       "      <td>19467900</td>\n",
       "    </tr>\n",
       "    <tr>\n",
       "      <th>2018-05-24</th>\n",
       "      <td>188.770004</td>\n",
       "      <td>188.839996</td>\n",
       "      <td>186.210007</td>\n",
       "      <td>188.149994</td>\n",
       "      <td>188.149994</td>\n",
       "      <td>20401000</td>\n",
       "    </tr>\n",
       "    <tr>\n",
       "      <th>2018-05-25</th>\n",
       "      <td>188.229996</td>\n",
       "      <td>189.649994</td>\n",
       "      <td>187.649994</td>\n",
       "      <td>188.580002</td>\n",
       "      <td>188.580002</td>\n",
       "      <td>17461000</td>\n",
       "    </tr>\n",
       "  </tbody>\n",
       "</table>\n",
       "</div>"
      ],
      "text/plain": [
       "                  Open        High         Low       Close   Adj Close  \\\n",
       "Date                                                                     \n",
       "2018-05-21  188.000000  189.270004  186.910004  187.630005  187.630005   \n",
       "2018-05-22  188.380005  188.880005  186.779999  187.160004  187.160004   \n",
       "2018-05-23  186.350006  188.500000  185.759995  188.360001  188.360001   \n",
       "2018-05-24  188.770004  188.839996  186.210007  188.149994  188.149994   \n",
       "2018-05-25  188.229996  189.649994  187.649994  188.580002  188.580002   \n",
       "\n",
       "              Volume  \n",
       "Date                  \n",
       "2018-05-21  18400800  \n",
       "2018-05-22  15240700  \n",
       "2018-05-23  19467900  \n",
       "2018-05-24  20401000  \n",
       "2018-05-25  17461000  "
      ]
     },
     "execution_count": 66,
     "metadata": {},
     "output_type": "execute_result"
    }
   ],
   "source": [
    "df = pd.read_csv('./Data/AAPL.csv', index_col=0, infer_datetime_format=True)\n",
    "df.head()"
   ]
  },
  {
   "cell_type": "code",
   "execution_count": 67,
   "metadata": {},
   "outputs": [
    {
     "data": {
      "image/png": "[encoded data removed]",
      "text/plain": [
       "<matplotlib.figure.Figure at 0x10f75fc88>"
      ]
     },
     "metadata": {},
     "output_type": "display_data"
    }
   ],
   "source": [
    "df[['Open','Close']].plot()   # profile is fine but what is the x-axis?\n",
    "plt.show()"
   ]
  },
  {
   "cell_type": "code",
   "execution_count": 42,
   "metadata": {},
   "outputs": [
    {
     "data": {
      "text/plain": [
       "(21, 6)"
      ]
     },
     "execution_count": 42,
     "metadata": {},
     "output_type": "execute_result"
    }
   ],
   "source": [
    "df.shape"
   ]
  },
  {
   "cell_type": "code",
   "execution_count": 45,
   "metadata": {},
   "outputs": [
    {
     "data": {
      "text/plain": [
       "Index(['2018-05-21', '2018-05-22', '2018-05-23', '2018-05-24', '2018-05-25',\n",
       "       '2018-05-29', '2018-05-30', '2018-05-31', '2018-06-01', '2018-06-04',\n",
       "       '2018-06-05', '2018-06-06', '2018-06-07', '2018-06-08', '2018-06-11',\n",
       "       '2018-06-12', '2018-06-13', '2018-06-14', '2018-06-15', '2018-06-18',\n",
       "       '2018-06-19'],\n",
       "      dtype='object', name='Date')"
      ]
     },
     "execution_count": 45,
     "metadata": {},
     "output_type": "execute_result"
    }
   ],
   "source": [
    "df.index"
   ]
  },
  {
   "cell_type": "code",
   "execution_count": 70,
   "metadata": {},
   "outputs": [
    {
     "name": "stdout",
     "output_type": "stream",
     "text": [
      "<class 'pandas.core.frame.DataFrame'>\n",
      "Index: 21 entries, 2018-05-21 to 2018-06-19\n",
      "Data columns (total 6 columns):\n",
      "Open         21 non-null float64\n",
      "High         21 non-null float64\n",
      "Low          21 non-null float64\n",
      "Close        21 non-null float64\n",
      "Adj Close    21 non-null float64\n",
      "Volume       21 non-null int64\n",
      "dtypes: float64(5), int64(1)\n",
      "memory usage: 1.1+ KB\n"
     ]
    }
   ],
   "source": [
    "df.info()"
   ]
  },
  {
   "cell_type": "code",
   "execution_count": 71,
   "metadata": {},
   "outputs": [
    {
     "data": {
      "text/html": [
       "<div>\n",
       "<style>\n",
       "    .dataframe thead tr:only-child th {\n",
       "        text-align: right;\n",
       "    }\n",
       "\n",
       "    .dataframe thead th {\n",
       "        text-align: left;\n",
       "    }\n",
       "\n",
       "    .dataframe tbody tr th {\n",
       "        vertical-align: top;\n",
       "    }\n",
       "</style>\n",
       "<table border=\"1\" class=\"dataframe\">\n",
       "  <thead>\n",
       "    <tr style=\"text-align: right;\">\n",
       "      <th></th>\n",
       "      <th>Open</th>\n",
       "      <th>High</th>\n",
       "      <th>Low</th>\n",
       "      <th>Close</th>\n",
       "      <th>Adj Close</th>\n",
       "      <th>Volume</th>\n",
       "    </tr>\n",
       "  </thead>\n",
       "  <tbody>\n",
       "    <tr>\n",
       "      <th>count</th>\n",
       "      <td>21.000000</td>\n",
       "      <td>21.000000</td>\n",
       "      <td>21.000000</td>\n",
       "      <td>21.000000</td>\n",
       "      <td>21.000000</td>\n",
       "      <td>2.100000e+01</td>\n",
       "    </tr>\n",
       "    <tr>\n",
       "      <th>mean</th>\n",
       "      <td>189.698573</td>\n",
       "      <td>190.607620</td>\n",
       "      <td>188.548571</td>\n",
       "      <td>189.759524</td>\n",
       "      <td>189.759524</td>\n",
       "      <td>2.336069e+07</td>\n",
       "    </tr>\n",
       "    <tr>\n",
       "      <th>std</th>\n",
       "      <td>2.543028</td>\n",
       "      <td>2.319233</td>\n",
       "      <td>2.506535</td>\n",
       "      <td>2.402797</td>\n",
       "      <td>2.402797</td>\n",
       "      <td>9.676355e+06</td>\n",
       "    </tr>\n",
       "    <tr>\n",
       "      <th>min</th>\n",
       "      <td>185.139999</td>\n",
       "      <td>186.330002</td>\n",
       "      <td>183.449997</td>\n",
       "      <td>185.690002</td>\n",
       "      <td>185.690002</td>\n",
       "      <td>1.524070e+07</td>\n",
       "    </tr>\n",
       "    <tr>\n",
       "      <th>25%</th>\n",
       "      <td>187.880005</td>\n",
       "      <td>188.839996</td>\n",
       "      <td>186.779999</td>\n",
       "      <td>187.899994</td>\n",
       "      <td>187.899994</td>\n",
       "      <td>1.848490e+07</td>\n",
       "    </tr>\n",
       "    <tr>\n",
       "      <th>50%</th>\n",
       "      <td>188.770004</td>\n",
       "      <td>190.160004</td>\n",
       "      <td>187.750000</td>\n",
       "      <td>188.839996</td>\n",
       "      <td>188.839996</td>\n",
       "      <td>2.134720e+07</td>\n",
       "    </tr>\n",
       "    <tr>\n",
       "      <th>75%</th>\n",
       "      <td>191.550003</td>\n",
       "      <td>192.610001</td>\n",
       "      <td>190.440002</td>\n",
       "      <td>191.699997</td>\n",
       "      <td>191.699997</td>\n",
       "      <td>2.325040e+07</td>\n",
       "    </tr>\n",
       "    <tr>\n",
       "      <th>max</th>\n",
       "      <td>194.139999</td>\n",
       "      <td>194.199997</td>\n",
       "      <td>192.360001</td>\n",
       "      <td>193.979996</td>\n",
       "      <td>193.979996</td>\n",
       "      <td>6.171920e+07</td>\n",
       "    </tr>\n",
       "  </tbody>\n",
       "</table>\n",
       "</div>"
      ],
      "text/plain": [
       "             Open        High         Low       Close   Adj Close  \\\n",
       "count   21.000000   21.000000   21.000000   21.000000   21.000000   \n",
       "mean   189.698573  190.607620  188.548571  189.759524  189.759524   \n",
       "std      2.543028    2.319233    2.506535    2.402797    2.402797   \n",
       "min    185.139999  186.330002  183.449997  185.690002  185.690002   \n",
       "25%    187.880005  188.839996  186.779999  187.899994  187.899994   \n",
       "50%    188.770004  190.160004  187.750000  188.839996  188.839996   \n",
       "75%    191.550003  192.610001  190.440002  191.699997  191.699997   \n",
       "max    194.139999  194.199997  192.360001  193.979996  193.979996   \n",
       "\n",
       "             Volume  \n",
       "count  2.100000e+01  \n",
       "mean   2.336069e+07  \n",
       "std    9.676355e+06  \n",
       "min    1.524070e+07  \n",
       "25%    1.848490e+07  \n",
       "50%    2.134720e+07  \n",
       "75%    2.325040e+07  \n",
       "max    6.171920e+07  "
      ]
     },
     "execution_count": 71,
     "metadata": {},
     "output_type": "execute_result"
    }
   ],
   "source": [
    "df.describe()"
   ]
  },
  {
   "cell_type": "code",
   "execution_count": 48,
   "metadata": {},
   "outputs": [
    {
     "data": {
      "text/plain": [
       "Date\n",
       "2018-05-21    188.000000\n",
       "2018-05-22    188.380005\n",
       "2018-05-23    186.350006\n",
       "2018-05-24    188.770004\n",
       "2018-05-25    188.229996\n",
       "2018-05-29    187.600006\n",
       "2018-05-30    187.720001\n",
       "2018-05-31    187.220001\n",
       "2018-06-01    187.990005\n",
       "2018-06-04    191.639999\n",
       "2018-06-05    193.070007\n",
       "2018-06-06    193.630005\n",
       "2018-06-07    194.139999\n",
       "2018-06-08    191.169998\n",
       "2018-06-11    191.350006\n",
       "2018-06-12    191.389999\n",
       "2018-06-13    192.419998\n",
       "2018-06-14    191.550003\n",
       "2018-06-15    190.029999\n",
       "2018-06-18    187.880005\n",
       "2018-06-19    185.139999\n",
       "Name: Open, dtype: float64"
      ]
     },
     "execution_count": 48,
     "metadata": {},
     "output_type": "execute_result"
    }
   ],
   "source": [
    "df['Open']"
   ]
  },
  {
   "cell_type": "code",
   "execution_count": 49,
   "metadata": {},
   "outputs": [
    {
     "data": {
      "text/plain": [
       "pandas.core.series.Series"
      ]
     },
     "execution_count": 49,
     "metadata": {},
     "output_type": "execute_result"
    }
   ],
   "source": [
    "type(df['Open'])"
   ]
  },
  {
   "cell_type": "code",
   "execution_count": null,
   "metadata": {
    "collapsed": true
   },
   "outputs": [],
   "source": []
  },
  {
   "cell_type": "code",
   "execution_count": null,
   "metadata": {
    "collapsed": true
   },
   "outputs": [],
   "source": []
  },
  {
   "cell_type": "code",
   "execution_count": null,
   "metadata": {
    "collapsed": true
   },
   "outputs": [],
   "source": []
  },
  {
   "cell_type": "code",
   "execution_count": 69,
   "metadata": {
    "collapsed": true
   },
   "outputs": [],
   "source": [
    "# slicing applies here just like numpy array"
   ]
  },
  {
   "cell_type": "code",
   "execution_count": 72,
   "metadata": {
    "collapsed": true
   },
   "outputs": [],
   "source": [
    "# loc and iloc"
   ]
  },
  {
   "cell_type": "code",
   "execution_count": null,
   "metadata": {
    "collapsed": true
   },
   "outputs": [],
   "source": [
    "# "
   ]
  }
 ],
 "metadata": {
  "kernelspec": {
   "display_name": "Python 3",
   "language": "python",
   "name": "python3"
  },
  "language_info": {
   "codemirror_mode": {
    "name": "ipython",
    "version": 3
   },
   "file_extension": ".py",
   "mimetype": "text/x-python",
   "name": "python",
   "nbconvert_exporter": "python",
   "pygments_lexer": "ipython3",
   "version": "3.6.1"
  }
 },
 "nbformat": 4,
 "nbformat_minor": 2
}
